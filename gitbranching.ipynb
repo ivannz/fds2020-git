{
 "cells": [
  {
   "cell_type": "markdown",
   "metadata": {},
   "source": [
    "# git gud\n"
   ]
  },
  {
   "cell_type": "markdown",
   "metadata": {},
   "source": [
    "Questions to ponder when not using a **V**ersion **C**ontrol :\n",
    "* will it continue to solve your problem efficiently when situation changes?\n",
    "* does it scale with collaborators?\n",
    "* what if you feel particularly experiment-y and decide to test alternative impelmentations/ideas?\n",
    "* how to debug through history, when it becomes apparent that your huge project has contained a bug for a while?"
   ]
  },
  {
   "cell_type": "markdown",
   "metadata": {},
   "source": [
    "## git"
   ]
  },
  {
   "cell_type": "markdown",
   "metadata": {},
   "source": [
    "> (WIKI) A distributed **version-control system for tracking changes** in source code during software development. Every Git directory on every computer is a **full-fledged repository** with complete history and full version-tracking abilities, independent of network access or a central server. Git supports **rapid branching and merging**, and includes specific tools for visualizing and navigating a non-linear development history."
   ]
  },
  {
   "cell_type": "markdown",
   "metadata": {},
   "source": [
    "<br>"
   ]
  },
  {
   "cell_type": "markdown",
   "metadata": {},
   "source": [
    "## Git manual is helpful\n",
    "\n",
    "* `man gittutorial` guides you through the essentials: adding, committing, checkout, and pushing\n",
    "\n",
    "* `git branch --help` and help and description for a command\n",
    "\n",
    "* `man gitworkflows` recommended workflows"
   ]
  },
  {
   "cell_type": "markdown",
   "metadata": {},
   "source": [
    "<img width=\"75%\" src=\"./assets/conventions.svg\"> <div style=\"display:block;text-align:right;\">Figure credit: [Mark Lodato](https://github.com/MarkLodato/visual-git-guide) (CC BY-NC-SA 3.0 US)</div>"
   ]
  },
  {
   "cell_type": "markdown",
   "metadata": {},
   "source": [
    "<br>"
   ]
  },
  {
   "cell_type": "markdown",
   "metadata": {},
   "source": [
    "## Essential comands"
   ]
  },
  {
   "cell_type": "markdown",
   "metadata": {},
   "source": [
    "* `git add`\n",
    "> This command updates the index using the current content found in the working tree, to prepare the content staged for the next commit.\n",
    "\n",
    "* `git commit`\n",
    "> Record changes to the repository, by create a new commit containing the current contents of the index and a message describing the changes.\n",
    "\n",
    "* `git reset`\n",
    ">  Reset current HEAD to the specified state, optionally affecting stage (index) and working directory\n",
    "\n",
    "* `git checkout`\n",
    "> Updates files in the working tree to match the version in the index or the specified tree."
   ]
  },
  {
   "cell_type": "markdown",
   "metadata": {},
   "source": [
    "<img width=\"75%\" src=\"./assets/basic-usage.svg\"> <div style=\"display:block;text-align:right;\">Figure credit: [Mark Lodato](https://github.com/MarkLodato/visual-git-guide) (CC BY-NC-SA 3.0 US)</div>"
   ]
  },
  {
   "cell_type": "markdown",
   "metadata": {},
   "source": [
    "<br>"
   ]
  },
  {
   "cell_type": "markdown",
   "metadata": {},
   "source": [
    "Working Directory <--> stage (index) <--> .git repo (local) <--> remote repo"
   ]
  },
  {
   "cell_type": "markdown",
   "metadata": {},
   "source": [
    "### Staging work"
   ]
  },
  {
   "cell_type": "markdown",
   "metadata": {},
   "source": [
    "git add \\[-p\\] **path** -- stage path in the working directory\n",
    "* `git reset path` -- unstage\n",
    "* `-p` allows you to hand pick what change to stage or what to keep for later\n",
    "\n",
    "git rm **path** -- remove object from working directory and stage it's removal\n",
    "* `git checkout HEAD path` -- unstage removal and restore path in working directory (tree)\n",
    "    * `git reset --hard HEAD` -- reverts all git tracked files to their HEAD state\n",
    "\n",
    "git mv **path** **target** -- rename object within the working directory and stage the rename\n",
    "* `mv = cp path target + git rm path + git add target`\n",
    "* `git checkout HEAD path` -- restore path in working directory (tree), but keep target staged for adding"
   ]
  },
  {
   "cell_type": "markdown",
   "metadata": {},
   "source": [
    "<br>"
   ]
  },
  {
   "cell_type": "markdown",
   "metadata": {},
   "source": [
    "### Inspecting history and edits"
   ]
  },
  {
   "cell_type": "markdown",
   "metadata": {},
   "source": [
    "Shows the commit logs\n",
    "* `git log`, `git log --oneline`\n",
    "\n",
    "Show changes between the working tree and the index or a tree\n",
    "* `git diff`, `git diff --cached`, `git diff a b`\n",
    "<img width=\"75%\" src=\"./assets/diff.svg\"> <div style=\"display:block;text-align:right;\">Figure credit: [Mark Lodato](https://github.com/MarkLodato/visual-git-guide) (CC BY-NC-SA 3.0 US)</div>"
   ]
  },
  {
   "cell_type": "markdown",
   "metadata": {},
   "source": [
    "Stash the changes in a *dirty* working directory away\n",
    "* `git stash list`, `git stash pop`\n",
    "> Use git stash when you want to record the current state of the working\n",
    "directory and the index, but want to go back to a clean working directory.\n",
    "The command saves your local modifications away and reverts the working\n",
    "directory to match the HEAD commit."
   ]
  },
  {
   "cell_type": "markdown",
   "metadata": {},
   "source": [
    "<br>"
   ]
  },
  {
   "cell_type": "markdown",
   "metadata": {},
   "source": [
    "## commits, branches and tags"
   ]
  },
  {
   "cell_type": "markdown",
   "metadata": {},
   "source": [
    "[mixed-4: `git tag`](https://learngitbranching.js.org/?gist_level_id=563f8011581d962dd1131795cd36cb9a),\n",
    "[mixed-5: `git describe`](https://learngitbranching.js.org/?gist_level_id=0bdf30d6dac2a1495bbd43443c0537ed),\n",
    "[rampup-3: `relative ref`](https://learngitbranching.js.org/?gist_level_id=865a0b0a95e4adc7d33ac5a226085a65)\n",
    "\n",
    "1. commit, branch **branch** **ref**, checkout -b **name** **ref**, checkout -\n",
    "    * **ref** is anything that can uniquely resolve into a commit in the tree.\n",
    "    * if a **ref** is needed but missing then HEAD commit is implied\n",
    "\n",
    "\n",
    "2. detached HEAD and specifying commits through relative references\n",
    "    * git checkout **commit**\n",
    "    * enough to specify the first 6-8 letter of commit's hash\n",
    "    * can commit and create new branches in detached HEAD regime\n",
    "\n",
    "3. git branch -f **branch** **ref**\n",
    "    * nondestructive, cannot be done with checkout\n",
    "\n",
    "4. git reset **ref**\n",
    "    * applies to checkout out branch: need to `git checkout **branch**` first\n",
    "    * `--hard` resets branch head, index, and working tree to **ref**\n",
    "    * `--mixed` resets branch head and index to **ref**\n",
    "    * `--soft` resets only branch head to **ref** (changes remain staged)\n",
    "\n",
    "4. git tag **name** **ref**\n",
    "    * `git-describe` command finds the most recent tag that is reachable from a commit. and \n",
    "\n",
    "Demonstrate in game, git and github [git-demo1](https://gist.github.com/ivannz/5aa1e653c032ff2d172bca99274f4888)\n",
    "\n",
    "> Branches are **mutable** references and can be changed at any time. Tags are **immutable** and permanently reference a point in history (commit). on Github releases are tags!"
   ]
  },
  {
   "cell_type": "markdown",
   "metadata": {},
   "source": [
    "This form resets the current branch head to `<commit>` and possibly updates the index (resetting it to the tree of `<commit>`) and the working tree depending on `<mode>`.\n",
    "<img width=\"75%\" src=\"./assets/reset-commit.svg\"> <div style=\"display:block;text-align:right;\">Figure credit: [Mark Lodato](https://github.com/MarkLodato/visual-git-guide) (CC BY-NC-SA 3.0 US)</div>"
   ]
  },
  {
   "cell_type": "markdown",
   "metadata": {},
   "source": [
    "<br>"
   ]
  },
  {
   "cell_type": "markdown",
   "metadata": {},
   "source": [
    "## Combining work and rewriting history"
   ]
  },
  {
   "cell_type": "markdown",
   "metadata": {},
   "source": [
    "* git merge **branch** [intro-3: `git merge`](https://learngitbranching.js.org/?gist_level_id=90f90e045ab288d969d43c3ffcbb83b2),\n",
    "git rebase **base** [intro-4: `git rebase`](https://learngitbranching.js.org/?gist_level_id=fc719dd1308f678aca3fbdfa1e1d79ea)\n",
    "\n",
    "* git rebase \\[-i\\] **base** **branch** [move-2: `git rebase -i`](https://learngitbranching.js.org/?gist_level_id=8e18ac05d06d172d3a3f23ebe804b85e) [mixed-1: `git rebase -i`](https://learngitbranching.js.org/?gist_level_id=c68f16c6dd7eaf5ba209dd45b84aef7a) [mixed-2: `rebase amend`](https://learngitbranching.js.org/?gist_level_id=8e8970fac79b225e0695a0a140f6a1ad)\n",
    "    * git checkout **branch**\n",
    "    * git rebase \\[-i\\] **base** \n",
    "\n",
    "Cleanup local work before committing to branch, changing commit history\n",
    "[git-demo2](https://gist.github.com/ivannz/a8a4c70ab7dcf27a4e611ddcb371b4db)\n",
    "* show interactive squash, reorder, omit in live git"
   ]
  },
  {
   "cell_type": "markdown",
   "metadata": {},
   "source": [
    "A merge creates a new commit that incorporates changes from other commits.\n",
    "* fast-forward merge: merging commit is a direct descendant of the current commit\n",
    "<img width=\"75%\" src=\"./assets/merge-ff.svg\"> <div style=\"display:block;text-align:right;\">Figure credit: [Mark Lodato](https://github.com/MarkLodato/visual-git-guide) (CC BY-NC-SA 3.0 US)</div>"
   ]
  },
  {
   "cell_type": "markdown",
   "metadata": {},
   "source": [
    "* 3-way merge: branches diverged, compare the branch heads and the common ancestor (potential conflict)\n",
    "    * The common ancestor and the two branch tips are sent to the three-way merge tool that will use all three to calculate the result\n",
    "<img width=\"75%\" src=\"./assets/merge.svg\"> <div style=\"display:block;text-align:right;\">Figure credit: [Mark Lodato](https://github.com/MarkLodato/visual-git-guide) (CC BY-NC-SA 3.0 US)</div>\n",
    "\n"
   ]
  },
  {
   "cell_type": "markdown",
   "metadata": {},
   "source": [
    "Among the changes made to the common ancestor’s version, **non-overlapping** ones are incorporated in the final result verbatim. When both sides made changes to the same area, there is a merge [conflict](https://mirrors.edge.kernel.org/pub/software/scm/git/docs/git-merge.html#_how_conflicts_are_presented):\n",
    "\n",
    "```text\n",
    "Content that is either __unchanged__ from the common ancestor,\n",
    "or __cleanly__ resolved because only one side changed.\n",
    "\n",
    "<<<<<<< yours                                  <-- the target of the merge\n",
    "\n",
    "    conflicting content in target branch (HEAD)\n",
    "\n",
    "=======\n",
    "\n",
    "    conflicting content in merged commit (MERGE_HEAD)\n",
    "\n",
    ">>>>>>> theirs                                 <-- the source of the merge\n",
    "\n",
    "Another piece that is __cleanly resolved__ or __unmodified__.\n",
    "```\n",
    "\n",
    "show conflict styles with [git-demo5](https://gist.github.com/ivannz/78d1cd42904d9f7dc63a1e5dacce34b6)\n",
    "* `git config --global merge.conflictstyle merge`\n",
    "    * The default merge conflict style \n",
    "\n",
    "* `git config --global merge.conflictstyle diff3`\n",
    "    * Alternative style which also shows the content of the original **comon ancesotr** between `|||||||` and `=======` markers"
   ]
  },
  {
   "cell_type": "markdown",
   "metadata": {},
   "source": [
    "Of course there are tools for making it easier to resolve conflicts. They have 3-4 panes: \n",
    "\n",
    "1. <span style=\"color:#f5c243\">**Base**</span>: the original version from the common ancestor\n",
    "2. <span style=\"color:#c0de93\">**Yours/Mine**</span>: your edits on the version you checked out into your working directory\n",
    "3. <span style=\"color:#b5cae0\">**Theirs**</span>: the conflicting version from the edits others did\n",
    "\n",
    "<img width=\"50%\" src=\"./assets/3way-merge-panes.png\">"
   ]
  },
  {
   "cell_type": "markdown",
   "metadata": {},
   "source": [
    "Rebase **reapplies** the commit history from the common ancestor with the new **base** atop the latter\n",
    "* **dereferences** the original commits but they still **exist**, and can be reused with `reflog + checkout -b`\n",
    "    * `reflog` captures all changes that happened to HEAD, but keep these records for a limited time\n",
    "    * git's garbage collection cleans up dangling commits and objects after a while\n",
    "\n",
    "* git rebase **base** **branch** = checkout **branch** + rebase **base**\n",
    "<img width=\"75%\" src=\"./assets/rebase.svg\"> <div style=\"display:block;text-align:right;\">Figure credit: [Mark Lodato](https://github.com/MarkLodato/visual-git-guide) (CC BY-NC-SA 3.0 US)</div>"
   ]
  },
  {
   "cell_type": "markdown",
   "metadata": {},
   "source": [
    "`git rebase theirs yours` aka replay work in `yours` atop `theirs` since they diverged\n",
    "* rebase conflicts look like merge conflicts, but **yours** and **theirs** have switched places!\n",
    "\n",
    "```text\n",
    "Content that is either __unchanged__ from the common ancestor,\n",
    "or __cleanly__ resolved because only one side changed.\n",
    "\n",
    "<<<<<<< theirs                                 <-- the base of the reabse\n",
    "\n",
    "    conflicting content in base branch (HEAD)\n",
    "\n",
    "=======\n",
    "\n",
    "    conflicting content in your branch (REBASE_HEAD)\n",
    "\n",
    ">>>>>>> yours                                  <-- the source of the rebase\n",
    "\n",
    "Another piece that is __cleanly resolved__ or __unmodified__.\n",
    "```"
   ]
  },
  {
   "cell_type": "markdown",
   "metadata": {},
   "source": [
    "<br>"
   ]
  },
  {
   "cell_type": "markdown",
   "metadata": {},
   "source": [
    "### Merge or Rebase?"
   ]
  },
  {
   "cell_type": "markdown",
   "metadata": {},
   "source": [
    "Some developers love to preserve history and thus prefer merging.\n",
    "Others prefer having a clean commit tree and prefer rebasing.\n",
    "\n",
    "\n",
    "Rebase small features or fixes\n",
    "+ easy-to-follow linear history, easier to squash commits when merging\n",
    "- alters the apparent history, making related branches diverge immediately\n",
    "- **NEVER** rebase a shared branch, only your own local branches\n",
    "\n",
    "Merge longer-running features\n",
    "+ symbolic joining of parallel development\n",
    "- creates a hard to follow (and debug) web of intricate commit dependencies"
   ]
  },
  {
   "cell_type": "markdown",
   "metadata": {},
   "source": [
    "A more involved rebase [advanced-1: `rebase all merges`](https://learngitbranching.js.org/?gist_level_id=c54bbd01120cc35f9f8cbdd706f33102)\n",
    " and [advanced-3: `selective rebase`](https://learngitbranching.js.org/?gist_level_id=a81bb4bd109d66bbdfa9d61ffbe01a0e)\n",
    "* in live [git-demo3](https://gist.github.com/ivannz/4a68c3ffbd70b67d8883223b03a63738) this also creates conflicts\n",
    "    * on each step show rebase in learngitbranching, then the same in\n",
    "    terminal, resolving conflicts and skipping if necessary\n",
    "    * `git rebase --skip` if commit has been already applied\n"
   ]
  },
  {
   "cell_type": "markdown",
   "metadata": {},
   "source": [
    "<br>"
   ]
  },
  {
   "cell_type": "markdown",
   "metadata": {},
   "source": [
    "### cherry-picking and reverting"
   ]
  },
  {
   "cell_type": "markdown",
   "metadata": {},
   "source": [
    "All non-destructive (i.e. you never lose committed work), but some rewrite history\n",
    "\n",
    "`rewrite history`\n",
    "* git revert **ref**  [rampup-4: `git revert`](https://learngitbranching.js.org/?gist_level_id=d32d4b378f9d9fe3362025540b34f32a)\n",
    "    * adds an explicit **undo** commit\n",
    "* git cherry-pick \\[**ref** ...\\] [move-1: `picking cherries`](https://learngitbranching.js.org/?gist_level_id=821e7dac76fece33f26b2b735fc11136)\n",
    "[mixed-3: `cherry-pick + amend`](https://learngitbranching.js.org/?gist_level_id=29cda5ede2cea48d28c56c3b4bc6b2b4)\n",
    "    * replays commits relative to the current HEAD\n",
    "* `git commit --amend` -- take the most recent commit and add new staged changes to it\n",
    "\n",
    "`rewind the references`\n",
    "* git branch -f **branch** **ref**\n",
    "\n",
    "\n",
    "Demonstrate [git-demo2](https://gist.github.com/ivannz/a8a4c70ab7dcf27a4e611ddcb371b4db)\n",
    "* cherry-pick, interactive rebase and revert need conflict resolution\n",
    "<img width=\"75%\" src=\"./assets/cherry-pick.svg\"> <div style=\"display:block;text-align:right;\">Figure credit: [Mark Lodato](https://github.com/MarkLodato/visual-git-guide) (CC BY-NC-SA 3.0 US)</div>"
   ]
  },
  {
   "cell_type": "markdown",
   "metadata": {},
   "source": [
    "<br>"
   ]
  },
  {
   "cell_type": "markdown",
   "metadata": {},
   "source": [
    "## Remote Repositories"
   ]
  },
  {
   "cell_type": "markdown",
   "metadata": {},
   "source": [
    "Remote-tracking branches are read-only reference, updated only by fetch or pull.\n",
    "\n",
    "* `git clone` -- automatically sets up remote-tracking branches \n",
    "[remote-1: `cloning`](https://learngitbranching.js.org/?gist_level_id=3ab3adf9afb439a214a69e63e79f5c8b)\n",
    "\n",
    "* `git remote` manipulate remote repositories whose branches are tracked\n",
    "    * git remote add **name** **url** -- adds a remote\n",
    "    * git remote remove **name** -- removes remote and all associated remote-tracking branches"
   ]
  },
  {
   "cell_type": "markdown",
   "metadata": {},
   "source": [
    "### Interactions"
   ]
  },
  {
   "cell_type": "markdown",
   "metadata": {},
   "source": [
    "Getting work history from them and submitting work history to them\n",
    "* git fetch **remote**, git push [remote-3: `fetching from remote`](https://learngitbranching.js.org/?gist_level_id=d1e486304c59232aa6929d3d9e513453)\n",
    "    * `fetch` requests updates from *remote* for the remote-tracking branches\n",
    "    * `push` updates the tracking branch to current head and the upload them to remote\n",
    "\n",
    "Adding remote and tracking branches\n",
    "* git push **remote** **branch** [remote-8: `pushing`](https://learngitbranching.js.org/?gist_level_id=b968753465cd121c3263f7ee12f449bf)\n",
    "* git push **remote** **ref**:**branch** [remoteAdvanced-4: `pushing`](https://learngitbranching.js.org/?gist_level_id=27a9e2ae6ca7b3431cc2c2b6c369eced)\n",
    "* git checkout -b **branch** **tracking** [remoteAdvanced-3: `pull rebase`](https://learngitbranching.js.org/?gist_level_id=559d7a2a044d1d0b8f146097704461c4)\n",
    "    * git branch -u **remote/branch**\n",
    "    * git push -u **remote** **branch**"
   ]
  },
  {
   "cell_type": "markdown",
   "metadata": {},
   "source": [
    "* [remote-4](https://learngitbranching.js.org/?gist_level_id=93124d01f15a4807b032963100f69f76)\n",
    "`git pull = fetch + merge` updates tracking and merges the branch with its remote\n",
    "* [remote-7](https://learngitbranching.js.org/?gist_level_id=27b0f5f303bbfd7e0cc5507fd6443ad0)\n",
    "`git pull --rebase = fetch + merge` updates tracking and rebases the branch atop the tracking (since they diverged -- common ancestor)\n",
    "    * git **refuses** to push remote and tracking branches diverge, otherwise uses `fast-forwarded`\n",
    "* [remoteAdvanced-8](https://learngitbranching.js.org/?gist_level_id=35f4b17617aed2c233ed3b098fa5e4d3)\n",
    "git pull **remote** **ref**:**branch**\n",
    "    * fetch remote/ref into an intermediate branch, then merge into checked out branch"
   ]
  },
  {
   "cell_type": "markdown",
   "metadata": {},
   "source": [
    "Pushing and fetching empty refs deletes branches\n",
    "* [remoteAdvanced-7: `deleting branches`](https://learngitbranching.js.org/?gist_level_id=80af8b8ae3a3e4e2dc3a8d93de5fcbdf)\n",
    "git fetch **remote**   :**branch** checkouts HEAD into branch"
   ]
  },
  {
   "cell_type": "markdown",
   "metadata": {},
   "source": [
    "use this live [git-demo4](https://gist.github.com/ivannz/2533a4709e8f7a5e25cc1a12ef11de94)\n",
    "* rebase [remoteAdvanced-1: `rebases of rebases`](https://learngitbranching.js.org/?gist_level_id=15c5500cf6623772f0a2c636c81eba0b) and merge [remoteAdvanced-2: `merges of merges`](https://learngitbranching.js.org/?gist_level_id=e1dedbdfa1cdddfb2d9abfcc1dc1156d) several times"
   ]
  },
  {
   "cell_type": "markdown",
   "metadata": {},
   "source": [
    "<br>"
   ]
  },
  {
   "cell_type": "markdown",
   "metadata": {},
   "source": [
    "## General notes"
   ]
  },
  {
   "cell_type": "markdown",
   "metadata": {},
   "source": [
    "### Separate changes\n",
    "\n",
    "It is not bad to make highly granular commits, however committing each and every character change is just wasteful. A good strategy is to combine changes related to the same issue in one or several consecutive commits. For instance documentation edits, test fixes, new feature implementation, or a bug fix should not be bundled together in a single commit.\n",
    "\n",
    "> As a general rule, try to split your changes into **small logical steps**, and commit each\n",
    "of them. They should be **consistent**, **working** independently of any later commits, **pass**\n",
    "the test suite, etc. ... It is always easier to **squash a few commits** together than to split\n",
    "one big commit into several\n",
    "\n",
    "\n",
    "* `git rebase -i HEAD~<n>` allows you to squash related commits and move them around (if possible)."
   ]
  },
  {
   "cell_type": "markdown",
   "metadata": {},
   "source": [
    "### Commit messages\n",
    "\n",
    "They help you reconstruct the edit history, keep track of changes, and completed tasks. They whould be concise and consistent. A well-composed git commit message communicats context about a change to colleagues and your future self. Certainly, a `diff` tells you what changed, but only the commit message can tell you why.\n",
    "A [detailed explanation](https://chris.beams.io/posts/git-commit/)."
   ]
  },
  {
   "cell_type": "markdown",
   "metadata": {},
   "source": [
    "### `git init` or you own secret github\n",
    "\n",
    "If you want to archive your work, you can use `git init` to set up a special repository.\n",
    "\n",
    "git init **--bare** **path**\n",
    "* sets up a *bare* repository at **path** with git metadata, history and snapshots\n",
    "* has no working directory, and so it is impossible to commit changes in it directly\n",
    "* can only work as a remote, much like a repo on github!\n",
    "\n",
    "```bash\n",
    "# 1. create an archive repo (names of bare repos traditionally end with `.git`)\n",
    "git init --bare /external_hdd/work/archive.git\n",
    "\n",
    "# 2. add a new remote in your local repo\n",
    "git remote add archive /external_hdd/work/archive.git\n",
    "\n",
    "# 3. only branches you push into archive will be there!\n",
    "git push archive master\n",
    "```"
   ]
  },
  {
   "cell_type": "markdown",
   "metadata": {},
   "source": [
    "### `git bisect` or how to find a needle in the haystack\n",
    "\n",
    "> Consider a project in which one feature after another are implemented and intermixed with occasional bug fixes or documentation edits. In such a busy project it is possible that some test or some assumption about the code, which is not regularly checked, begins to fail. For example, if there are no continuous integration tests, one object could change its API and cause another rarely used object to exhibit faulty behaviour.\n",
    "\n",
    "A reliable strategy to find the change or edit that causes undesirable behaviour is to slowly rewind the history commit by commit, until the point when the project worked well. The downside of this iterative procedure is its O(n) complexity.\n",
    "\n",
    "Git provides a method to locate the first bad commit which utilizes bisection search (binary search) with O(log n) complexity.\n",
    "```bash\n",
    "git bisect start             # record the current working tree and begins the bisection method\n",
    "\n",
    "git bisect reset             # finish/abort bisection\n",
    "```\n",
    "Having started bisect you should define the search range: a not too stale commit when everything was `good`, and mark some commit when the object broke down as `bad`. You do this with\n",
    "```bash\n",
    "git bisect bad\n",
    "# can use `git checkout <reference / branch / tag / relative ref>`\n",
    "git bisect good <reference>\n",
    "```\n",
    "which marks the provided reference appropriately. It the reference is omitted the the current HEAD is used. Since bisect is a special regime, you can freely move around the history, without committing anything, to find a point when the object worked well.\n",
    "\n",
    "As soon as you mark bad and good commits bisect puts you in the binary search loop as the authority deciding if some commit is good or bad. At each iteration git checks out some commit between the current endpoints for your validation, which you do by telling it if the commit is good or bad via `git bisect bad/good`.\n",
    "\n",
    "```bash\n",
    "git bisect log                      # show the bisect log\n",
    "\n",
    "git show -u <the first bad commit>  # show the culprit\n",
    "```\n",
    "\n",
    "Let's have a look at `git bisect --help`.\n",
    "* [git-demo2](https://gist.github.com/ivannz/a8a4c70ab7dcf27a4e611ddcb371b4db)"
   ]
  },
  {
   "cell_type": "markdown",
   "metadata": {},
   "source": [
    "<br>"
   ]
  },
  {
   "cell_type": "markdown",
   "metadata": {},
   "source": [
    "## Missing\n",
    "\n",
    "* `git apply`\n",
    "* `git blame`"
   ]
  },
  {
   "cell_type": "markdown",
   "metadata": {},
   "source": [
    "<br>"
   ]
  },
  {
   "cell_type": "markdown",
   "metadata": {},
   "source": [
    "## Trunk"
   ]
  },
  {
   "cell_type": "markdown",
   "metadata": {},
   "source": [
    "~[intro-1](https://learngitbranching.js.org/?gist_level_id=ac7a9180ab57b87ad58b3a79b862f2c9)~\n",
    "~[intro-2](https://learngitbranching.js.org/?gist_level_id=8593dfd4f5f0442b689604e9a479133d)~\n",
    "~[rampup-1](https://learngitbranching.js.org/?gist_level_id=122a6732401d3674f9367d2e49966282)~\n",
    "~[rampup-2](https://learngitbranching.js.org/?gist_level_id=182cf9bb015ed6df65c44b53c05d2b2f)~\n",
    "~[remote-2](https://learngitbranching.js.org/?gist_level_id=007030732d8b0db0859f05e72125a82a)~\n",
    "~[remote-5](https://learngitbranching.js.org/?gist_level_id=377901b79c2f9ea3b6d7aae2fd899f37)~\n",
    "~[advanced-2](https://learngitbranching.js.org/?gist_level_id=4d785559a2dd97f65ccbf8318652807f)~\n",
    "~[remoteAdvanced-5](https://learngitbranching.js.org/?gist_level_id=d706454b286c966c21ad215faa3720c9)~\n",
    "~[remoteAdvanced-6](https://learngitbranching.js.org/?gist_level_id=34ba1c20975053648e3c76b2fecd0f1d)~\n",
    "~[remote-6](https://learngitbranching.js.org/?gist_level_id=ceef71c3104c8ea6dc16c18b1956d94d)~"
   ]
  },
  {
   "cell_type": "markdown",
   "metadata": {},
   "source": [
    "<br>"
   ]
  },
  {
   "cell_type": "markdown",
   "metadata": {},
   "source": [
    "## Combine two files preserving their history\n",
    "\n",
    "The idea is to create two branches, each renaming one of the combined\n",
    "files to a common name, then merge the branches, resolve the conflict,\n",
    "and rename to the desired name.\n",
    "\n",
    "\n",
    "### Setup\n",
    "Setup the git repo\n",
    "\n",
    "```bash\n",
    "> foo echo foo\n",
    "> bar echo bar\n",
    "\n",
    "git init\n",
    "git add foo bar && git commit -m'init foo bar'\n",
    ">> foo echo baz\n",
    "git add foo && git commit -m'foo + baz'\n",
    "```\n",
    "\n",
    "#### step 1\n",
    "From `master` rename `bar` into `tmp` in a new branch `two`.\n",
    "\n",
    "##### Solution\n",
    "```bash\n",
    "git checkout master         # make sure we're on master\n",
    "git checkout -b two         # checkout into new branch `two`\n",
    "git mv bar tmp              # rename bar -> tmp\n",
    "git commit -m'bar->tmp'     # commit\n",
    "```\n",
    "\n",
    "#### step 2\n",
    "From `master` rename `foo` into `tmp` in a new branch `one`.\n",
    "\n",
    "##### Solution\n",
    "```bash\n",
    "git checkout -              # checkout tho the previously used branch (`master`)\n",
    "git checkout -b one         # checkout into new branch `one`\n",
    "git mv foo tmp              # rename foo -> tmp\n",
    "git commit -m'foo->tmp'     # commit\n",
    "```\n",
    "\n",
    "#### step 3\n",
    "Merge branch `two` into `one`. Merging these branches results in a conflict, since both have the same object `tmp` with different histories.\n",
    "\n",
    "##### Solution\n",
    "```bash\n",
    "git merge two               # merge branch `two` with the current branch (`one`)\n",
    "# resolve the conflicts\n",
    "# <!-- # resolve merge-conflict git add tmp, git commit -->\n",
    "git add tmp\n",
    "git commit -m'merge one two'\n",
    "```\n",
    "\n",
    "##### verify\n",
    "Basically, we're done: the merging step is the actual place, where histories are combined.\n",
    "```bash\n",
    "git blame\n",
    "```\n",
    "The files are merged and histories preserved.\n",
    "\n",
    "\n",
    "#### step 4\n",
    "The last step is to rename the file back and merge it into the `master`.\n",
    "\n",
    "##### Solution\n",
    "```bash\n",
    "git mv tmp foo              # rename `tmp` back to the original file\n",
    "git commit -m'tmp->foo'\n",
    "\n",
    "git checkout master\n",
    "git merge one -m'join foo and bar'\n",
    "```"
   ]
  },
  {
   "cell_type": "markdown",
   "metadata": {},
   "source": [
    "## rebase onto self\n",
    "\n",
    "If you still haven't pushed to the remote, and find yourself wanting to reorder your commit history, you can rebase the current branch onto either the `master`, or some commit between master and the current HEAD, pointing to the branch. If you're a solo developer then you can rebase and force push to the remote, but then it is upon you to remember to `git pull --rebase` in your other environments."
   ]
  },
  {
   "cell_type": "code",
   "execution_count": null,
   "metadata": {},
   "outputs": [],
   "source": [
    "assert False"
   ]
  },
  {
   "cell_type": "markdown",
   "metadata": {},
   "source": [
    "<br>"
   ]
  }
 ],
 "metadata": {
  "kernelspec": {
   "display_name": "Python 3",
   "language": "python",
   "name": "python3"
  },
  "language_info": {
   "codemirror_mode": {
    "name": "ipython",
    "version": 3
   },
   "file_extension": ".py",
   "mimetype": "text/x-python",
   "name": "python",
   "nbconvert_exporter": "python",
   "pygments_lexer": "ipython3",
   "version": "3.8.2"
  }
 },
 "nbformat": 4,
 "nbformat_minor": 4
}
